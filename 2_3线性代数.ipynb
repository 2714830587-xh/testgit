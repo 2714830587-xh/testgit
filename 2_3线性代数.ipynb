{
  "nbformat": 4,
  "nbformat_minor": 0,
  "metadata": {
    "colab": {
      "name": "2.3线性代数.ipynb",
      "provenance": [],
      "collapsed_sections": [],
      "authorship_tag": "ABX9TyMG6A0CWNkL90aNsqgmPivy",
      "include_colab_link": true
    },
    "kernelspec": {
      "name": "python3",
      "display_name": "Python 3"
    },
    "language_info": {
      "name": "python"
    }
  },
  "cells": [
    {
      "cell_type": "markdown",
      "metadata": {
        "id": "view-in-github",
        "colab_type": "text"
      },
      "source": [
        "<a href=\"https://colab.research.google.com/github/2714830587-xh/testgit/blob/master/2_3%E7%BA%BF%E6%80%A7%E4%BB%A3%E6%95%B0.ipynb\" target=\"_parent\"><img src=\"https://colab.research.google.com/assets/colab-badge.svg\" alt=\"Open In Colab\"/></a>"
      ]
    },
    {
      "cell_type": "markdown",
      "source": [
        "# **线性代数⼩结**\n",
        "• 标量、向量、矩阵和张量是线性代数中的基本数学对象。\n",
        "\n",
        "• 向量泛化⾃标量，矩阵泛化⾃向量。\n",
        "\n",
        "• 标量、向量、矩阵和张量分别具有零、⼀、⼆和任意数量的轴。\n",
        "\n",
        "• ⼀个张量可以通过sum和mean沿指定的轴降低维度。\n",
        "\n",
        "• 两个矩阵的按元素乘法被称为他们的Hadamard积。它与矩阵乘法不同。\n",
        "\n",
        "• 在深度学习中，我们经常使⽤范数，如L1范数、L2范数和Frobenius范数。\n",
        "\n",
        "• 我们可以对标量、向量、矩阵和张量执⾏各种操作。\n",
        "nihao\n",
        "\n",
        "\n",
        "\n",
        "\n"
      ],
      "metadata": {
        "id": "6hTHxXBrnHOf"
      }
    },
    {
      "cell_type": "markdown",
      "source": [
        "# **标量**"
      ],
      "metadata": {
        "id": "3hopNJURVjSs"
      }
    },
    {
      "cell_type": "code",
      "execution_count": null,
      "metadata": {
        "colab": {
          "base_uri": "https://localhost:8080/"
        },
        "id": "YJf6nSNuSUAJ",
        "outputId": "a00c4a2a-0048-45df-fd50-1b74f6e62e1c"
      },
      "outputs": [
        {
          "output_type": "execute_result",
          "data": {
            "text/plain": [
              "(tensor([5.]), tensor([6.]), tensor([1.5000]), tensor([9.]))"
            ]
          },
          "metadata": {},
          "execution_count": 138
        }
      ],
      "source": [
        "import torch\n",
        "# 加不加中括号?有什么区别\n",
        "x = torch.tensor([3.0])\n",
        "y = torch.tensor([2.0])\n",
        "x + y, x * y, x / y, x**y\n",
        "\n"
      ]
    },
    {
      "cell_type": "markdown",
      "source": [
        "# 向量\n",
        "如果有两个输出值,上一个值会被覆盖吗?好像会的"
      ],
      "metadata": {
        "id": "vemOeJcrVo7g"
      }
    },
    {
      "cell_type": "code",
      "source": [
        "\n",
        "x=torch.arange(4)\n",
        "x\n",
        "x[3]\n",
        "len(x)\n",
        "x.shape"
      ],
      "metadata": {
        "colab": {
          "base_uri": "https://localhost:8080/"
        },
        "id": "OVPuJumkVnos",
        "outputId": "7a330f22-20e1-4c75-9632-944907aeb9be"
      },
      "execution_count": null,
      "outputs": [
        {
          "output_type": "execute_result",
          "data": {
            "text/plain": [
              "torch.Size([4])"
            ]
          },
          "metadata": {},
          "execution_count": 139
        }
      ]
    },
    {
      "cell_type": "markdown",
      "source": [
        ""
      ],
      "metadata": {
        "id": "VPRO6bAem5K0"
      }
    },
    {
      "cell_type": "markdown",
      "source": [
        "# **矩阵**"
      ],
      "metadata": {
        "id": "vzTlT_wvXgLK"
      }
    },
    {
      "cell_type": "code",
      "source": [
        "A=torch.arange(20).reshape(4,5)\n",
        "A\n",
        "# 转置,对称\n",
        "A.T\n",
        "B = torch.tensor([[1, 2, 3], [2, 0, 4], [3, 4, 5]])\n",
        "B\n",
        "B==B.T"
      ],
      "metadata": {
        "colab": {
          "base_uri": "https://localhost:8080/"
        },
        "id": "vdCzw-6eXgcJ",
        "outputId": "036035bd-1a39-4c9e-c69b-b9c50a95545f"
      },
      "execution_count": null,
      "outputs": [
        {
          "output_type": "execute_result",
          "data": {
            "text/plain": [
              "tensor([[True, True, True],\n",
              "        [True, True, True],\n",
              "        [True, True, True]])"
            ]
          },
          "metadata": {},
          "execution_count": 140
        }
      ]
    },
    {
      "cell_type": "markdown",
      "source": [
        "# **张量及其基本性质**"
      ],
      "metadata": {
        "id": "LYFRk4nGZjeo"
      }
    },
    {
      "cell_type": "code",
      "source": [
        "X = torch.arange(24).reshape(2, 3, 4)\n",
        "X\n",
        "A = torch.arange(20, dtype=torch.float32).reshape(5, 4)\n",
        "B = A.clone() # 通过分配新内存，将A的⼀个副本分配给B\n",
        "# 都是对应元素进行操作\n",
        "X,A,A + B,A * B"
      ],
      "metadata": {
        "colab": {
          "base_uri": "https://localhost:8080/"
        },
        "id": "XwUsA3SXZjQw",
        "outputId": "eae2b403-c29e-44d7-92de-6551240e1083"
      },
      "execution_count": null,
      "outputs": [
        {
          "output_type": "execute_result",
          "data": {
            "text/plain": [
              "(tensor([[[ 0,  1,  2,  3],\n",
              "          [ 4,  5,  6,  7],\n",
              "          [ 8,  9, 10, 11]],\n",
              " \n",
              "         [[12, 13, 14, 15],\n",
              "          [16, 17, 18, 19],\n",
              "          [20, 21, 22, 23]]]), tensor([[ 0.,  1.,  2.,  3.],\n",
              "         [ 4.,  5.,  6.,  7.],\n",
              "         [ 8.,  9., 10., 11.],\n",
              "         [12., 13., 14., 15.],\n",
              "         [16., 17., 18., 19.]]), tensor([[ 0.,  2.,  4.,  6.],\n",
              "         [ 8., 10., 12., 14.],\n",
              "         [16., 18., 20., 22.],\n",
              "         [24., 26., 28., 30.],\n",
              "         [32., 34., 36., 38.]]), tensor([[  0.,   1.,   4.,   9.],\n",
              "         [ 16.,  25.,  36.,  49.],\n",
              "         [ 64.,  81., 100., 121.],\n",
              "         [144., 169., 196., 225.],\n",
              "         [256., 289., 324., 361.]]))"
            ]
          },
          "metadata": {},
          "execution_count": 141
        }
      ]
    },
    {
      "cell_type": "code",
      "source": [
        "a = 2\n",
        "X = torch.arange(24).reshape(2, 3, 4)\n",
        "a + X, (a * X).shape\n"
      ],
      "metadata": {
        "colab": {
          "base_uri": "https://localhost:8080/"
        },
        "id": "_fFeM0v1a7Ci",
        "outputId": "b234fd75-687f-4f3c-87d4-9c33f18d73a5"
      },
      "execution_count": null,
      "outputs": [
        {
          "output_type": "execute_result",
          "data": {
            "text/plain": [
              "(tensor([[[ 2,  3,  4,  5],\n",
              "          [ 6,  7,  8,  9],\n",
              "          [10, 11, 12, 13]],\n",
              " \n",
              "         [[14, 15, 16, 17],\n",
              "          [18, 19, 20, 21],\n",
              "          [22, 23, 24, 25]]]), torch.Size([2, 3, 4]))"
            ]
          },
          "metadata": {},
          "execution_count": 142
        }
      ]
    },
    {
      "cell_type": "markdown",
      "source": [
        "# **降维** 加粗文字\n",
        "指定axis=1将通过汇总所有列的元素降维（轴1）。???因此，输⼊轴1的维数在输出形状中消失"
      ],
      "metadata": {
        "id": "dyXR5dw-bRlO"
      }
    },
    {
      "cell_type": "code",
      "source": [
        "x = torch.arange(4, dtype=torch.float32)\n",
        "x, x.sum()\n",
        "A.shape, A.sum()\n",
        "# 按照指定轴来降维,例如按照行来???有问题\n",
        "A_sum_axis0 = A.sum(axis=0)\n",
        "A.shape,A,A_sum_axis0, A_sum_axis0.shape,A.sum(axis=[0, 1]) # SameasA.sum()最后一个行和列1一起求和\n"
      ],
      "metadata": {
        "colab": {
          "base_uri": "https://localhost:8080/"
        },
        "id": "9ljM9fT-bRvV",
        "outputId": "89189aec-ccd1-44a5-fcb3-b8bd8873618e"
      },
      "execution_count": null,
      "outputs": [
        {
          "output_type": "execute_result",
          "data": {
            "text/plain": [
              "(torch.Size([5, 4]), tensor([[ 0.,  1.,  2.,  3.],\n",
              "         [ 4.,  5.,  6.,  7.],\n",
              "         [ 8.,  9., 10., 11.],\n",
              "         [12., 13., 14., 15.],\n",
              "         [16., 17., 18., 19.]]), tensor([40., 45., 50., 55.]), torch.Size([4]), tensor(190.))"
            ]
          },
          "metadata": {},
          "execution_count": 143
        }
      ]
    },
    {
      "cell_type": "code",
      "source": [
        "A.mean(), A.sum() / A.numel()\n",
        "A.mean(axis=0), A.sum(axis=0) / A.shape[0],A.shape[0]\n"
      ],
      "metadata": {
        "colab": {
          "base_uri": "https://localhost:8080/"
        },
        "id": "emPStZgzecTK",
        "outputId": "79ec5aba-90dd-41af-92c0-a8ae59633110"
      },
      "execution_count": null,
      "outputs": [
        {
          "output_type": "execute_result",
          "data": {
            "text/plain": [
              "(tensor([ 8.,  9., 10., 11.]), tensor([ 8.,  9., 10., 11.]), 5)"
            ]
          },
          "metadata": {},
          "execution_count": 144
        }
      ]
    },
    {
      "cell_type": "markdown",
      "source": [
        "# **非降维求和??**\n",
        "sum_A在对每⾏进⾏求和后仍保持两个轴，我们可以通过⼴播将A除以sum_A。"
      ],
      "metadata": {
        "id": "sZPMDOFhf7D1"
      }
    },
    {
      "cell_type": "code",
      "source": [
        "sum_A = A.sum(axis=1, keepdims=True)\n",
        "sum_B = A.sum(axis=1)\n",
        "A,sum_A,sum_A.shape,sum_B,sum_B.shape,A / sum_A #利用广播机制\n",
        "# 如果我们想沿某个轴计算A元素的累积总和，⽐如axis=0（按⾏计算），我们可以调⽤cumsum函数。此函数不会沿任何轴降低输⼊张量的维度。\n",
        "A.cumsum(axis=0)"
      ],
      "metadata": {
        "colab": {
          "base_uri": "https://localhost:8080/"
        },
        "id": "Tbk1_w9Kf7QW",
        "outputId": "225b1dd0-1eec-4da4-e355-accd997668ac"
      },
      "execution_count": null,
      "outputs": [
        {
          "output_type": "execute_result",
          "data": {
            "text/plain": [
              "tensor([[ 0.,  1.,  2.,  3.],\n",
              "        [ 4.,  6.,  8., 10.],\n",
              "        [12., 15., 18., 21.],\n",
              "        [24., 28., 32., 36.],\n",
              "        [40., 45., 50., 55.]])"
            ]
          },
          "metadata": {},
          "execution_count": 145
        }
      ]
    },
    {
      "cell_type": "markdown",
      "source": [
        "# **点积**\n",
        "是相同位置的按元素乘积的和\n"
      ],
      "metadata": {
        "id": "m-ZMtvS6g6S6"
      }
    },
    {
      "cell_type": "code",
      "source": [
        ""
      ],
      "metadata": {
        "id": "JUtGGSWTh9aE"
      },
      "execution_count": null,
      "outputs": []
    },
    {
      "cell_type": "code",
      "source": [
        "y = torch.ones(4, dtype = torch.float32)\n",
        "x, y, torch.dot(x, y),torch.sum(x * y)#等价表示"
      ],
      "metadata": {
        "colab": {
          "base_uri": "https://localhost:8080/"
        },
        "id": "CrrXcy7WhNRb",
        "outputId": "9c724a2b-41a1-43a4-cb54-2fde65eb0ea7"
      },
      "execution_count": null,
      "outputs": [
        {
          "output_type": "execute_result",
          "data": {
            "text/plain": [
              "(tensor([0., 1., 2., 3.]), tensor([1., 1., 1., 1.]), tensor(6.), tensor(6.))"
            ]
          },
          "metadata": {},
          "execution_count": 146
        }
      ]
    },
    {
      "cell_type": "markdown",
      "source": [
        "# **矩阵-向量积-矩阵乘法**\n"
      ],
      "metadata": {
        "id": "fgX1_PLJiquX"
      }
    },
    {
      "cell_type": "code",
      "source": [
        "#A的列维数（沿轴1的⻓度）必须与x的维数（其⻓度）相同。\n",
        "A,x,A.shape, x.shape, torch.mv(A, x)\n",
        "\n"
      ],
      "metadata": {
        "colab": {
          "base_uri": "https://localhost:8080/"
        },
        "id": "o7Dukrzbiqis",
        "outputId": "175ab341-8314-49c4-ab6c-e82fa5762e8b"
      },
      "execution_count": null,
      "outputs": [
        {
          "output_type": "execute_result",
          "data": {
            "text/plain": [
              "(tensor([[ 0.,  1.,  2.,  3.],\n",
              "         [ 4.,  5.,  6.,  7.],\n",
              "         [ 8.,  9., 10., 11.],\n",
              "         [12., 13., 14., 15.],\n",
              "         [16., 17., 18., 19.]]),\n",
              " tensor([0., 1., 2., 3.]),\n",
              " torch.Size([5, 4]),\n",
              " torch.Size([4]),\n",
              " tensor([ 14.,  38.,  62.,  86., 110.]))"
            ]
          },
          "metadata": {},
          "execution_count": 147
        }
      ]
    },
    {
      "cell_type": "code",
      "source": [
        "B = torch.ones(4, 3)\n",
        "A,B,torch.mm(A, B)"
      ],
      "metadata": {
        "colab": {
          "base_uri": "https://localhost:8080/"
        },
        "id": "lEzM6z69j3jZ",
        "outputId": "2ab67330-59e2-473b-a67b-af86dbeb1008"
      },
      "execution_count": null,
      "outputs": [
        {
          "output_type": "execute_result",
          "data": {
            "text/plain": [
              "(tensor([[ 0.,  1.,  2.,  3.],\n",
              "         [ 4.,  5.,  6.,  7.],\n",
              "         [ 8.,  9., 10., 11.],\n",
              "         [12., 13., 14., 15.],\n",
              "         [16., 17., 18., 19.]]), tensor([[1., 1., 1.],\n",
              "         [1., 1., 1.],\n",
              "         [1., 1., 1.],\n",
              "         [1., 1., 1.]]), tensor([[ 6.,  6.,  6.],\n",
              "         [22., 22., 22.],\n",
              "         [38., 38., 38.],\n",
              "         [54., 54., 54.],\n",
              "         [70., 70., 70.]]))"
            ]
          },
          "metadata": {},
          "execution_count": 148
        }
      ]
    },
    {
      "cell_type": "markdown",
      "source": [
        "# **范数??-有点像距离单位**\n",
        "1范数:它表⽰为向量元素的绝对值之和：\n",
        "\n",
        "2范数:欧⼏⾥得距离是⼀个L2范数：假设n维向量x中的元素\n",
        "是x1, . . . , xn，其L2范数是向量元素平⽅和的平⽅根：![18TA))IBF_Z061V266~1{_9.png](data:image/png;base64,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)\n",
        "\n",
        "\n"
      ],
      "metadata": {
        "id": "gwrEV2SbkxXd"
      }
    },
    {
      "cell_type": "code",
      "source": [
        "u = torch.tensor([3.0, -4.0])\n",
        "torch.norm(u)\n",
        "# 与L2范数相⽐，L1范数受异常值的影响较小。为了计算L1范数，我们将绝对值函数和按元素求和组合起来。\n",
        "torch.abs(u).sum()\n",
        "# Frobenius范数\n",
        "torch.norm(torch.ones((4, 9)))\n"
      ],
      "metadata": {
        "colab": {
          "base_uri": "https://localhost:8080/"
        },
        "id": "QKcRnxLpkxhD",
        "outputId": "cc310daf-c352-4342-ad8c-fe3f76693ead"
      },
      "execution_count": null,
      "outputs": [
        {
          "output_type": "execute_result",
          "data": {
            "text/plain": [
              "tensor(6.)"
            ]
          },
          "metadata": {},
          "execution_count": 149
        }
      ]
    },
    {
      "cell_type": "markdown",
      "source": [
        "# **练习题**\n",
        "\n",
        "1. 证明⼀个矩阵A的转置的转置是A，即(A\n",
        "⊤)\n",
        "⊤ = A。\n",
        "2. 给出两个矩阵A和B，证明“它们转置的和”等于“它们和的转置”，即A\n",
        "⊤ + B\n",
        "⊤ = (A + B)\n",
        "⊤。\n",
        "3. 给定任意⽅阵A，A + A\n",
        "⊤总是对称的吗?为什么?\n",
        "4. 我们在本节中定义了形状(2, 3, 4)的张量X。len(X)的输出结果是什么？\n",
        "5. 对于任意形状的张量X,len(X)是否总是对应于X特定轴的⻓度?这个轴是什么?\n",
        "6. 运⾏A/A.sum(axis=1)，看看会发⽣什么。你能分析原因吗？\n",
        "7. 考虑⼀个具有形状(2, 3, 4)的张量，在轴0、1、2上的求和输出是什么形状?-**-注意它如何消维度的**\n",
        "8. 为linalg.norm函数提供3个或更多轴的张量，并观察其输出。对于任意形状的张量这个函数计算得\n",
        "到什么?https://pytorch.org/docs/stable/generated/torch.linalg.norm.html#torch.linalg.norm\n",
        "\n",
        "\n",
        "参考答案:https://discuss.d2l.ai/uploads/default/original/2X/d/d4ecced3611b6686fb8ddaeb31d143ccfe488fd2.jpeg\n",
        "\n"
      ],
      "metadata": {
        "id": "6tpv9ShnnyDN"
      }
    },
    {
      "cell_type": "code",
      "source": [
        "# 第一题\n",
        "A,A.T,A.T.T\n",
        "#2\n",
        "A=torch.arange(12).reshape(4,3)\n",
        "A,B,A.T+B.T,(A+B).T\n",
        "#3\n",
        "#4\n",
        "Y=torch.arange(24).reshape(2,3,4)\n",
        "len(Y)\n",
        "# 获得的是第一轴的数据\n",
        "#5总对应axis=0这个轴\n",
        "#6\n",
        "A.shape,A.sum(axis=1).shape\n",
        "# 注意非降维求和例如C\n",
        "B=A/A.sum(axis=0)\n",
        "C=A/A.sum(axis=1,keepdim=True)\n",
        "\n",
        "A,A.sum(axis=0),A.sum(axis=1),A.shape,A.sum(axis=0).shape,A.sum(axis=1).shape,B,C\n",
        "# 为啥运行不了A/A.sum(axis=1)就是应为A的列向量维度大小与另一个B的维度大小相匹配\n",
        "#7\n",
        "A=torch.ones((2,3,4))\n",
        "B=A.sum(axis=0)\n",
        "C=A.sum(axis=1)\n",
        "D=A.sum(axis=2)\n",
        "A,B.shape,C.shape,D.shape,B,C,D\n",
        "#8\n"
      ],
      "metadata": {
        "colab": {
          "base_uri": "https://localhost:8080/"
        },
        "id": "Y7miBzv4ns_E",
        "outputId": "e5bf9409-de15-443d-9e75-fbf06f03fdd5"
      },
      "execution_count": null,
      "outputs": [
        {
          "output_type": "execute_result",
          "data": {
            "text/plain": [
              "(tensor([[[1., 1., 1., 1.],\n",
              "          [1., 1., 1., 1.],\n",
              "          [1., 1., 1., 1.]],\n",
              " \n",
              "         [[1., 1., 1., 1.],\n",
              "          [1., 1., 1., 1.],\n",
              "          [1., 1., 1., 1.]]]),\n",
              " torch.Size([3, 4]),\n",
              " torch.Size([2, 4]),\n",
              " torch.Size([2, 3]),\n",
              " tensor([[2., 2., 2., 2.],\n",
              "         [2., 2., 2., 2.],\n",
              "         [2., 2., 2., 2.]]),\n",
              " tensor([[3., 3., 3., 3.],\n",
              "         [3., 3., 3., 3.]]),\n",
              " tensor([[4., 4., 4.],\n",
              "         [4., 4., 4.]]))"
            ]
          },
          "metadata": {},
          "execution_count": 150
        }
      ]
    }
  ]
}